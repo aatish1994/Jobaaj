{
 "cells": [
  {
   "cell_type": "markdown",
   "id": "7dca37a3",
   "metadata": {},
   "source": [
    "# Problem Statement:"
   ]
  },
  {
   "cell_type": "markdown",
   "id": "e010fffa",
   "metadata": {},
   "source": [
    "**What is the problem?\n",
    "The aim is to analyze the Flipkart sales dataset to understand customer preferences, product performance, and sales trends. The analysis will focus on identifying the most popular categories, brands, pricing strategies, and customer ratings.\n",
    "Why is it important to solve it?\n",
    "Solving this problem will help Flipkart make data-driven decisions to improve product listings, pricing strategies, and customer satisfaction. The insights gained from this analysis could lead to increased sales, better customer retention, and improved overall business performance.**"
   ]
  },
  {
   "cell_type": "code",
   "execution_count": 141,
   "id": "0194c2b7",
   "metadata": {},
   "outputs": [],
   "source": [
    "#Importing required libraries\n",
    "import pandas as pd\n",
    "import numpy as np\n",
    "import seaborn as sns\n",
    "import warnings\n",
    "import matplotlib.pyplot as plt\n",
    "warnings.filterwarnings('ignore')"
   ]
  },
  {
   "cell_type": "code",
   "execution_count": 94,
   "id": "f8a9698b",
   "metadata": {},
   "outputs": [],
   "source": [
    "#uploading the data\n",
    "data=pd.read_csv('flipkart_com-ecommerce_sample.csv')"
   ]
  },
  {
   "cell_type": "code",
   "execution_count": 95,
   "id": "6514bdc2",
   "metadata": {},
   "outputs": [
    {
     "data": {
      "text/plain": [
       "(20000, 15)"
      ]
     },
     "execution_count": 95,
     "metadata": {},
     "output_type": "execute_result"
    }
   ],
   "source": [
    "#checking the shape\n",
    "data.shape"
   ]
  },
  {
   "cell_type": "code",
   "execution_count": 96,
   "id": "fce39999",
   "metadata": {},
   "outputs": [
    {
     "data": {
      "text/plain": [
       "uniq_id                       0\n",
       "crawl_timestamp               0\n",
       "product_url                   0\n",
       "product_name                  0\n",
       "product_category_tree         0\n",
       "pid                           0\n",
       "retail_price                 78\n",
       "discounted_price             78\n",
       "image                         3\n",
       "is_FK_Advantage_product       0\n",
       "description                   2\n",
       "product_rating                0\n",
       "overall_rating                0\n",
       "brand                      5864\n",
       "product_specifications       14\n",
       "dtype: int64"
      ]
     },
     "execution_count": 96,
     "metadata": {},
     "output_type": "execute_result"
    }
   ],
   "source": [
    "#checking for the null values\n",
    "data.isna().sum()"
   ]
  },
  {
   "cell_type": "code",
   "execution_count": 97,
   "id": "6a07999a",
   "metadata": {},
   "outputs": [
    {
     "name": "stdout",
     "output_type": "stream",
     "text": [
      "<class 'pandas.core.frame.DataFrame'>\n",
      "RangeIndex: 20000 entries, 0 to 19999\n",
      "Data columns (total 15 columns):\n",
      " #   Column                   Non-Null Count  Dtype  \n",
      "---  ------                   --------------  -----  \n",
      " 0   uniq_id                  20000 non-null  object \n",
      " 1   crawl_timestamp          20000 non-null  object \n",
      " 2   product_url              20000 non-null  object \n",
      " 3   product_name             20000 non-null  object \n",
      " 4   product_category_tree    20000 non-null  object \n",
      " 5   pid                      20000 non-null  object \n",
      " 6   retail_price             19922 non-null  float64\n",
      " 7   discounted_price         19922 non-null  float64\n",
      " 8   image                    19997 non-null  object \n",
      " 9   is_FK_Advantage_product  20000 non-null  bool   \n",
      " 10  description              19998 non-null  object \n",
      " 11  product_rating           20000 non-null  object \n",
      " 12  overall_rating           20000 non-null  object \n",
      " 13  brand                    14136 non-null  object \n",
      " 14  product_specifications   19986 non-null  object \n",
      "dtypes: bool(1), float64(2), object(12)\n",
      "memory usage: 2.2+ MB\n"
     ]
    }
   ],
   "source": [
    "#checking for data type\n",
    "data.info()"
   ]
  },
  {
   "cell_type": "code",
   "execution_count": 98,
   "id": "81f477a3",
   "metadata": {},
   "outputs": [
    {
     "data": {
      "text/html": [
       "<div>\n",
       "<style scoped>\n",
       "    .dataframe tbody tr th:only-of-type {\n",
       "        vertical-align: middle;\n",
       "    }\n",
       "\n",
       "    .dataframe tbody tr th {\n",
       "        vertical-align: top;\n",
       "    }\n",
       "\n",
       "    .dataframe thead th {\n",
       "        text-align: right;\n",
       "    }\n",
       "</style>\n",
       "<table border=\"1\" class=\"dataframe\">\n",
       "  <thead>\n",
       "    <tr style=\"text-align: right;\">\n",
       "      <th></th>\n",
       "      <th>retail_price</th>\n",
       "      <th>discounted_price</th>\n",
       "    </tr>\n",
       "  </thead>\n",
       "  <tbody>\n",
       "    <tr>\n",
       "      <th>count</th>\n",
       "      <td>19922.000000</td>\n",
       "      <td>19922.000000</td>\n",
       "    </tr>\n",
       "    <tr>\n",
       "      <th>mean</th>\n",
       "      <td>2979.206104</td>\n",
       "      <td>1973.401767</td>\n",
       "    </tr>\n",
       "    <tr>\n",
       "      <th>std</th>\n",
       "      <td>9009.639341</td>\n",
       "      <td>7333.586040</td>\n",
       "    </tr>\n",
       "    <tr>\n",
       "      <th>min</th>\n",
       "      <td>35.000000</td>\n",
       "      <td>35.000000</td>\n",
       "    </tr>\n",
       "    <tr>\n",
       "      <th>25%</th>\n",
       "      <td>666.000000</td>\n",
       "      <td>350.000000</td>\n",
       "    </tr>\n",
       "    <tr>\n",
       "      <th>50%</th>\n",
       "      <td>1040.000000</td>\n",
       "      <td>550.000000</td>\n",
       "    </tr>\n",
       "    <tr>\n",
       "      <th>75%</th>\n",
       "      <td>1999.000000</td>\n",
       "      <td>999.000000</td>\n",
       "    </tr>\n",
       "    <tr>\n",
       "      <th>max</th>\n",
       "      <td>571230.000000</td>\n",
       "      <td>571230.000000</td>\n",
       "    </tr>\n",
       "  </tbody>\n",
       "</table>\n",
       "</div>"
      ],
      "text/plain": [
       "        retail_price  discounted_price\n",
       "count   19922.000000      19922.000000\n",
       "mean     2979.206104       1973.401767\n",
       "std      9009.639341       7333.586040\n",
       "min        35.000000         35.000000\n",
       "25%       666.000000        350.000000\n",
       "50%      1040.000000        550.000000\n",
       "75%      1999.000000        999.000000\n",
       "max    571230.000000     571230.000000"
      ]
     },
     "execution_count": 98,
     "metadata": {},
     "output_type": "execute_result"
    }
   ],
   "source": [
    "data.describe()"
   ]
  },
  {
   "cell_type": "code",
   "execution_count": 99,
   "id": "eceea85f",
   "metadata": {},
   "outputs": [
    {
     "data": {
      "text/plain": [
       "0"
      ]
     },
     "execution_count": 99,
     "metadata": {},
     "output_type": "execute_result"
    }
   ],
   "source": [
    "#checking for duplicates\n",
    "data.duplicated().sum()"
   ]
  },
  {
   "cell_type": "code",
   "execution_count": 100,
   "id": "d1ba328c",
   "metadata": {},
   "outputs": [],
   "source": [
    "#filling null values of column retail_price and discounted price using mean method\n",
    "data['retail_price']=data['retail_price'].fillna(data['retail_price'].mean())\n",
    "data['discounted_price']=data['discounted_price'].fillna(data['discounted_price'].mean())"
   ]
  },
  {
   "cell_type": "code",
   "execution_count": 101,
   "id": "f172ed11",
   "metadata": {},
   "outputs": [],
   "source": [
    "#Since the data loss is very less, less than 1% so sropping the null values form columns image, description and product specification\n",
    "data.dropna(subset=['image', 'description', 'product_specifications'], inplace=True)"
   ]
  },
  {
   "cell_type": "code",
   "execution_count": 102,
   "id": "44fc2957",
   "metadata": {},
   "outputs": [],
   "source": [
    "#since the name of the brand is the first word of product name, so filling the null values opf brand name with it\n",
    "data['brand']=data['brand'].fillna(data['product_name'].str.split( ).str[0])"
   ]
  },
  {
   "cell_type": "code",
   "execution_count": 103,
   "id": "e8826218",
   "metadata": {},
   "outputs": [
    {
     "data": {
      "text/plain": [
       "uniq_id                    0\n",
       "crawl_timestamp            0\n",
       "product_url                0\n",
       "product_name               0\n",
       "product_category_tree      0\n",
       "pid                        0\n",
       "retail_price               0\n",
       "discounted_price           0\n",
       "image                      0\n",
       "is_FK_Advantage_product    0\n",
       "description                0\n",
       "product_rating             0\n",
       "overall_rating             0\n",
       "brand                      0\n",
       "product_specifications     0\n",
       "dtype: int64"
      ]
     },
     "execution_count": 103,
     "metadata": {},
     "output_type": "execute_result"
    }
   ],
   "source": [
    "#checking for null values\n",
    "data.isna().sum()"
   ]
  },
  {
   "cell_type": "markdown",
   "id": "31906877",
   "metadata": {},
   "source": [
    "# Category Analysis"
   ]
  },
  {
   "cell_type": "code",
   "execution_count": 104,
   "id": "2f78b544",
   "metadata": {},
   "outputs": [
    {
     "data": {
      "text/plain": [
       "array(['[\"Clothing >> Women\\'s Clothing >> Lingerie, Sleep & Swimwear >> Shorts >> Alisha Shorts >> Alisha Solid Women\\'s Cycling Shorts\"]',\n",
       "       '[\"Furniture >> Living Room Furniture >> Sofa Beds & Futons >> FabHomeDecor Fabric Double Sofa Bed (Finish Colo...\"]',\n",
       "       '[\"Footwear >> Women\\'s Footwear >> Ballerinas >> AW Bellies\"]',\n",
       "       ...,\n",
       "       '[\"Baby Care >> Baby & Kids Gifts >> Stickers >> Oren Empower Stickers\"]',\n",
       "       '[\"Baby Care >> Baby & Kids Gifts >> Stickers >> Uberlyfe Stickers\"]',\n",
       "       '[\"Baby Care >> Baby & Kids Gifts >> Stickers >> Fun To See Stickers\"]'],\n",
       "      dtype=object)"
      ]
     },
     "execution_count": 104,
     "metadata": {},
     "output_type": "execute_result"
    }
   ],
   "source": [
    "#checking for unique values\n",
    "data['product_category_tree'].unique()"
   ]
  },
  {
   "cell_type": "code",
   "execution_count": 105,
   "id": "d67658bd",
   "metadata": {},
   "outputs": [],
   "source": [
    "#making a new column main category by splitting the column product category tree\n",
    "data['main_category']=data['product_category_tree'].str.split('>').str[0]"
   ]
  },
  {
   "cell_type": "code",
   "execution_count": 106,
   "id": "d7215822",
   "metadata": {},
   "outputs": [
    {
     "data": {
      "text/plain": [
       "[\"Clothing                  6192\n",
       "[\"Jewellery                 3530\n",
       "[\"Footwear                  1225\n",
       "[\"Mobiles & Accessories     1098\n",
       "[\"Automotive                1012\n",
       "Name: main_category, dtype: int64"
      ]
     },
     "execution_count": 106,
     "metadata": {},
     "output_type": "execute_result"
    }
   ],
   "source": [
    "#top 5 categories\n",
    "data['main_category'].value_counts()[:5]"
   ]
  },
  {
   "cell_type": "code",
   "execution_count": 107,
   "id": "12328bf1",
   "metadata": {},
   "outputs": [
    {
     "data": {
      "image/png": "[encoded data removed]",
      "text/plain": [
       "<Figure size 576x576 with 1 Axes>"
      ]
     },
     "metadata": {},
     "output_type": "display_data"
    }
   ],
   "source": [
    "#plotting pie plot\n",
    "plt.figure(figsize=(8,8))\n",
    "labels='Clothing','Jewellery','Footwear','Mobile & Accessories','Automative'\n",
    "plt.pie(x=data['main_category'].value_counts()[:5],labels=labels,explode=[0.1,0,0,0,0],autopct='%.2f')\n",
    "plt.show()"
   ]
  },
  {
   "cell_type": "markdown",
   "id": "859c89e1",
   "metadata": {},
   "source": [
    "# Brand Popularity"
   ]
  },
  {
   "cell_type": "code",
   "execution_count": 108,
   "id": "5a8214b1",
   "metadata": {},
   "outputs": [
    {
     "data": {
      "text/plain": [
       "Allure Auto     469\n",
       "Regular         313\n",
       "Voylla          299\n",
       "Slim            288\n",
       "TheLostPuppy    229\n",
       "Name: brand, dtype: int64"
      ]
     },
     "execution_count": 108,
     "metadata": {},
     "output_type": "execute_result"
    }
   ],
   "source": [
    "#top 5 brand\n",
    "data['brand'].value_counts()[:5]"
   ]
  },
  {
   "cell_type": "code",
   "execution_count": 109,
   "id": "03bd5788",
   "metadata": {},
   "outputs": [
    {
     "data": {
      "image/png": "[encoded data removed]",
      "text/plain": [
       "<Figure size 576x576 with 1 Axes>"
      ]
     },
     "metadata": {},
     "output_type": "display_data"
    }
   ],
   "source": [
    "#plotting pie plot\n",
    "plt.figure(figsize=(8,8))\n",
    "labels='Allure Auto','Regular','Voylla','Slim','TheLostPuppy'\n",
    "plt.pie(x=data['brand'].value_counts()[:5],labels=labels,explode=[0.1,0,0,0,0],autopct='%.2f')\n",
    "plt.show()"
   ]
  },
  {
   "cell_type": "markdown",
   "id": "b3d9a039",
   "metadata": {},
   "source": [
    "# Pricing Strategy"
   ]
  },
  {
   "cell_type": "code",
   "execution_count": 110,
   "id": "67ebe9dd",
   "metadata": {},
   "outputs": [],
   "source": [
    "#making a new column discount percentage\n",
    "data['discount_percentage']=((data['retail_price']-data['discounted_price'])/data['retail_price'])*100"
   ]
  },
  {
   "cell_type": "code",
   "execution_count": 111,
   "id": "4932c679",
   "metadata": {},
   "outputs": [],
   "source": [
    "#After decimal point only two integers should be displayed\n",
    "data['discount_percentage']=data['discount_percentage'].round(2)"
   ]
  },
  {
   "cell_type": "code",
   "execution_count": 112,
   "id": "9eeebd1d",
   "metadata": {},
   "outputs": [
    {
     "data": {
      "text/plain": [
       "40.498233822132605"
      ]
     },
     "execution_count": 112,
     "metadata": {},
     "output_type": "execute_result"
    }
   ],
   "source": [
    "#Average of Discounted Percentage\n",
    "data['discount_percentage'].mean()"
   ]
  },
  {
   "cell_type": "markdown",
   "id": "3efc8380",
   "metadata": {},
   "source": [
    "# Product Ratings"
   ]
  },
  {
   "cell_type": "code",
   "execution_count": 113,
   "id": "ce51547a",
   "metadata": {},
   "outputs": [
    {
     "data": {
      "text/plain": [
       "No rating available    18132\n",
       "5                        620\n",
       "4                        246\n",
       "1                        171\n",
       "3                        168\n",
       "2                         80\n",
       "4.5                       67\n",
       "3.7                       51\n",
       "4.2                       47\n",
       "3.5                       45\n",
       "4.3                       45\n",
       "3.6                       25\n",
       "4.1                       24\n",
       "4.7                       24\n",
       "2.5                       23\n",
       "3.8                       23\n",
       "4.8                       21\n",
       "3.2                       20\n",
       "3.3                       17\n",
       "4.4                       16\n",
       "3.9                       15\n",
       "3.4                       13\n",
       "2.3                       12\n",
       "2.8                       11\n",
       "2.7                       10\n",
       "4.6                        9\n",
       "2.2                        8\n",
       "3.1                        7\n",
       "2.4                        5\n",
       "2.9                        5\n",
       "1.5                        4\n",
       "4.9                        4\n",
       "1.3                        4\n",
       "1.7                        4\n",
       "2.6                        3\n",
       "1.8                        2\n",
       "Name: product_rating, dtype: int64"
      ]
     },
     "execution_count": 113,
     "metadata": {},
     "output_type": "execute_result"
    }
   ],
   "source": [
    "#Checking value counts\n",
    "data['product_rating'].value_counts()"
   ]
  },
  {
   "cell_type": "code",
   "execution_count": 114,
   "id": "665b127c",
   "metadata": {},
   "outputs": [
    {
     "data": {
      "text/plain": [
       "(19981, 17)"
      ]
     },
     "execution_count": 114,
     "metadata": {},
     "output_type": "execute_result"
    }
   ],
   "source": [
    "#Checking shape\n",
    "data.shape"
   ]
  },
  {
   "cell_type": "code",
   "execution_count": 115,
   "id": "76d29d44",
   "metadata": {},
   "outputs": [
    {
     "data": {
      "text/plain": [
       "1849"
      ]
     },
     "execution_count": 115,
     "metadata": {},
     "output_type": "execute_result"
    }
   ],
   "source": [
    "#Finding the number of products with rating\n",
    "count=data.shape[0]-18132\n",
    "count"
   ]
  },
  {
   "cell_type": "markdown",
   "id": "edcb3055",
   "metadata": {},
   "source": [
    "# OR"
   ]
  },
  {
   "cell_type": "code",
   "execution_count": 116,
   "id": "5ae5afc1",
   "metadata": {},
   "outputs": [],
   "source": [
    "#Finding the number of products with rating\n",
    "rated_products=data[data['product_rating']!='No rating available']"
   ]
  },
  {
   "cell_type": "code",
   "execution_count": 117,
   "id": "0806c3d3",
   "metadata": {},
   "outputs": [
    {
     "data": {
      "text/plain": [
       "1849"
      ]
     },
     "execution_count": 117,
     "metadata": {},
     "output_type": "execute_result"
    }
   ],
   "source": [
    "#Count\n",
    "count_of_rated_product=rated_products['product_rating'].count()\n",
    "count_of_rated_product"
   ]
  },
  {
   "cell_type": "markdown",
   "id": "415a874a",
   "metadata": {},
   "source": [
    "# Flipkart Advantage Analysis"
   ]
  },
  {
   "cell_type": "code",
   "execution_count": 118,
   "id": "04577e32",
   "metadata": {},
   "outputs": [
    {
     "data": {
      "text/plain": [
       "3.928732295680897"
      ]
     },
     "execution_count": 118,
     "metadata": {},
     "output_type": "execute_result"
    }
   ],
   "source": [
    "#Mean of true value\n",
    "percentage_true_values = (data['is_FK_Advantage_product'].mean()) * 100\n",
    "percentage_true_values"
   ]
  },
  {
   "cell_type": "markdown",
   "id": "93a2ea97",
   "metadata": {},
   "source": [
    "# Most Expensive Products"
   ]
  },
  {
   "cell_type": "code",
   "execution_count": 119,
   "id": "a568a754",
   "metadata": {},
   "outputs": [],
   "source": [
    "#Finding most expensive products and its price\n",
    "largest=data.sort_values(by='retail_price',ascending=False)[:3]"
   ]
  },
  {
   "cell_type": "code",
   "execution_count": 120,
   "id": "acc2c40c",
   "metadata": {},
   "outputs": [
    {
     "name": "stdout",
     "output_type": "stream",
     "text": [
      "                                            product_name  retail_price\n",
      "116    Breitling AB011010/BB08 131S Chronomat 44 Anal...      571230.0\n",
      "11631                       Durian Leather 2 Seater Sofa      250500.0\n",
      "11507                Durian Laze/3 Leather 3 Seater Sofa      217500.0\n"
     ]
    }
   ],
   "source": [
    "#Top 3 expensive products\n",
    "print(largest[['product_name', 'retail_price']])"
   ]
  },
  {
   "cell_type": "markdown",
   "id": "6b929ca9",
   "metadata": {},
   "source": [
    "# Brand-wise Ratings"
   ]
  },
  {
   "cell_type": "code",
   "execution_count": 121,
   "id": "baae6b58",
   "metadata": {},
   "outputs": [],
   "source": [
    "#replacing the no rating available to 0\n",
    "data['temp_product_rating']=data['product_rating'].replace('No rating available',0)"
   ]
  },
  {
   "cell_type": "code",
   "execution_count": 122,
   "id": "c5da30e4",
   "metadata": {},
   "outputs": [],
   "source": [
    "#Changing data type to float\n",
    "data['temp_product_rating']=data['temp_product_rating'].astype(float)"
   ]
  },
  {
   "cell_type": "code",
   "execution_count": 123,
   "id": "e4ac2105",
   "metadata": {},
   "outputs": [],
   "source": [
    "#Changing data type to int\n",
    "data['temp_product_rating']=data['temp_product_rating'].astype(int)"
   ]
  },
  {
   "cell_type": "code",
   "execution_count": 124,
   "id": "71ddfbe0",
   "metadata": {},
   "outputs": [],
   "source": [
    "#Brand average rating\n",
    "brand_avg_rating = data.groupby('brand')['temp_product_rating'].mean()"
   ]
  },
  {
   "cell_type": "code",
   "execution_count": 130,
   "id": "6468d8f3",
   "metadata": {},
   "outputs": [
    {
     "data": {
      "text/plain": [
       "brand\n",
       "INDIANO          5.0\n",
       "LADY             5.0\n",
       "Ortho            5.0\n",
       "SR Crafts        5.0\n",
       "BigshopOnline    5.0\n",
       "Name: temp_product_rating, dtype: float64"
      ]
     },
     "execution_count": 130,
     "metadata": {},
     "output_type": "execute_result"
    }
   ],
   "source": [
    "#Highest brand average rating\n",
    "brand_wise_rating= brand_avg_rating.sort_values(ascending=False)\n",
    "brand_wise_rating[:5]"
   ]
  },
  {
   "cell_type": "markdown",
   "id": "b0e03e72",
   "metadata": {},
   "source": [
    "# Category-wise Pricing"
   ]
  },
  {
   "cell_type": "code",
   "execution_count": 131,
   "id": "f1b39378",
   "metadata": {},
   "outputs": [
    {
     "data": {
      "text/plain": [
       "main_category\n",
       "[\"883 Police Full Sleeve Solid Men's Jacket\"]              7499.0\n",
       "[\"ABEEZ Boys, Men, Girls (Black, Pack of 1)\"]               399.0\n",
       "[\"ANAND ARCHIES Girls Flats\"]                               499.0\n",
       "[\"ANAND ARCHIES Girls Wedges\"]                              899.0\n",
       "[\"ANASAZI Casual 3/4 Sleeve Solid Women's Top\"]             899.0\n",
       "                                                            ...  \n",
       "[\"run of luck Solid Women's Round Neck Dark Blue T...\"]     299.0\n",
       "[\"soie Fashion Women's Full Coverage Bra\"]                  540.0\n",
       "[\"soie Fashion Women's Sports Bra\"]                         880.0\n",
       "[\"tadd Men's, Women's Ankle Length Socks\"]                  499.0\n",
       "[\"xy decor Cotton Sofa Cover (white Pack of 6)\"]           1699.0\n",
       "Name: retail_price, Length: 266, dtype: float64"
      ]
     },
     "execution_count": 131,
     "metadata": {},
     "output_type": "execute_result"
    }
   ],
   "source": [
    "#category wise average pricing\n",
    "category_wise_rating=data.groupby('main_category')['retail_price'].mean()\n",
    "category_wise_rating"
   ]
  },
  {
   "cell_type": "code",
   "execution_count": 132,
   "id": "ac816dae",
   "metadata": {},
   "outputs": [
    {
     "data": {
      "text/plain": [
       "main_category\n",
       "[\"Furniture                                          23262.966667\n",
       "[\"Automation & Robotics                              19999.000000\n",
       "[\"Rasav Jewels Yellow Gold Diamond 18 K Ring\"]       13903.000000\n",
       "[\"Asics Gel-Kayano 22 Running Shoes\"]                12499.000000\n",
       "[\"Behringer Xenyx 502 Analog Sound Mixer\"]           10000.000000\n",
       "                                                         ...     \n",
       "[\"Kraft Seeds Thyme Herbs Seed (200 per packet)\"]      280.000000\n",
       "[\"JUSF2 Black Color Hair Band (Multicolor)\"]           249.000000\n",
       "[\"Naaz 2 in 1 Paper Quilling Board Game\"]              230.000000\n",
       "[\"Siemens 5SL Betagard 5SL MCB (1)\"]                   197.000000\n",
       "[\"SUPERMOD Men's Brief\"]                               139.000000\n",
       "Name: retail_price, Length: 266, dtype: float64"
      ]
     },
     "execution_count": 132,
     "metadata": {},
     "output_type": "execute_result"
    }
   ],
   "source": [
    "#Higehst average rating\n",
    "highest_category_wise_rating=category_wise_rating.sort_values(ascending=False)\n",
    "highest_category_wise_rating"
   ]
  },
  {
   "cell_type": "markdown",
   "id": "154b4e72",
   "metadata": {},
   "source": [
    "# Product Descriptions"
   ]
  },
  {
   "cell_type": "code",
   "execution_count": 133,
   "id": "84407f53",
   "metadata": {},
   "outputs": [],
   "source": [
    "#making new column len description to find the highest and lowest lenth of description\n",
    "data['len_description']=data['description'].apply(len)"
   ]
  },
  {
   "cell_type": "code",
   "execution_count": 134,
   "id": "14f29aba",
   "metadata": {},
   "outputs": [
    {
     "data": {
      "text/plain": [
       "439"
      ]
     },
     "execution_count": 134,
     "metadata": {},
     "output_type": "execute_result"
    }
   ],
   "source": [
    "#index of longest description\n",
    "index_longest_description = data['len_description'].idxmax()\n",
    "index_longest_description"
   ]
  },
  {
   "cell_type": "code",
   "execution_count": 135,
   "id": "31f5e595",
   "metadata": {},
   "outputs": [
    {
     "data": {
      "text/plain": [
       "10952"
      ]
     },
     "execution_count": 135,
     "metadata": {},
     "output_type": "execute_result"
    }
   ],
   "source": [
    "#index of shortest description\n",
    "index_shortest_description = data['len_description'].idxmin()\n",
    "index_shortest_description"
   ]
  },
  {
   "cell_type": "code",
   "execution_count": 136,
   "id": "4a9cfc64",
   "metadata": {},
   "outputs": [
    {
     "data": {
      "text/plain": [
       "\"Asian Gems & Jewels 6.25 Ratti 5 Dhaatu Sterling Silver, Metal, Alloy Cat's Eye NA K Ring\""
      ]
     },
     "execution_count": 136,
     "metadata": {},
     "output_type": "execute_result"
    }
   ],
   "source": [
    "#Product name of longest description\n",
    "product_name_long=data.loc[index_longest_description, 'product_name']\n",
    "product_name_long"
   ]
  },
  {
   "cell_type": "code",
   "execution_count": 137,
   "id": "bc1043c3",
   "metadata": {},
   "outputs": [
    {
     "data": {
      "text/plain": [
       "\"Klick Women's Leggings\""
      ]
     },
     "execution_count": 137,
     "metadata": {},
     "output_type": "execute_result"
    }
   ],
   "source": [
    "#Product name of shortest description\n",
    "product_name_short=data.loc[index_shortest_description, 'product_name']\n",
    "product_name_short"
   ]
  },
  {
   "cell_type": "markdown",
   "id": "56bafdae",
   "metadata": {},
   "source": [
    "# Time Analysis"
   ]
  },
  {
   "cell_type": "code",
   "execution_count": 138,
   "id": "d70c27ce",
   "metadata": {},
   "outputs": [],
   "source": [
    "#converting it to date time format\n",
    "data['crawl_timestamp']=pd.to_datetime(data['crawl_timestamp'])"
   ]
  },
  {
   "cell_type": "code",
   "execution_count": 139,
   "id": "7279957f",
   "metadata": {},
   "outputs": [],
   "source": [
    "#making a new column month\n",
    "data['month'] = data['crawl_timestamp'].dt.month"
   ]
  },
  {
   "cell_type": "code",
   "execution_count": 140,
   "id": "fc1f6a7d",
   "metadata": {},
   "outputs": [
    {
     "data": {
      "text/plain": [
       "12    10314\n",
       "Name: month, dtype: int64"
      ]
     },
     "execution_count": 140,
     "metadata": {},
     "output_type": "execute_result"
    }
   ],
   "source": [
    "#month in which data mostly crawled\n",
    "data_mostly_crawled=data['month'].value_counts()[:1]\n",
    "data_mostly_crawled"
   ]
  }
 ],
 "metadata": {
  "kernelspec": {
   "display_name": "Python 3 (ipykernel)",
   "language": "python",
   "name": "python3"
  },
  "language_info": {
   "codemirror_mode": {
    "name": "ipython",
    "version": 3
   },
   "file_extension": ".py",
   "mimetype": "text/x-python",
   "name": "python",
   "nbconvert_exporter": "python",
   "pygments_lexer": "ipython3",
   "version": "3.9.12"
  }
 },
 "nbformat": 4,
 "nbformat_minor": 5
}
